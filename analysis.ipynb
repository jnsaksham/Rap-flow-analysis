{
 "cells": [
  {
   "cell_type": "code",
   "execution_count": 33,
   "metadata": {},
   "outputs": [],
   "source": [
    "import numpy as np\n",
    "import pandas as pd\n",
    "import os, glob\n",
    "from tqdm import tqdm\n",
    "from collections import Counter\n",
    "import matplotlib.pyplot as plt"
   ]
  },
  {
   "cell_type": "code",
   "execution_count": 7,
   "metadata": {},
   "outputs": [],
   "source": [
    "# Read stress vectors\n",
    "def read_txt(fname):\n",
    "    with open(fname, 'r+', encoding = \"utf-8\") as f:\n",
    "        lines = [l.strip().split('\\t') for l in f.readlines()]\n",
    "    return lines\n",
    "\n",
    "# Aggregate to a list with each item being each song\n",
    "def create_song_list(txt):\n",
    "    song_list = []\n",
    "    song = []\n",
    "    for line in txt:\n",
    "        if line[0][:7] == '!!!EST:':\n",
    "            song_list.append(song)\n",
    "            song = []\n",
    "        else:\n",
    "            song.append(line)\n",
    "    return song_list\n",
    "\n",
    "def read_all_txt(files):\n",
    "    song_list = []\n",
    "    for f in files:\n",
    "        txt = read_txt(f)\n",
    "        song_list += create_song_list(txt)\n",
    "    return song_list\n",
    "\n",
    "# Convert song to measures\n",
    "def create_measure_list(song):\n",
    "    measure_list = []\n",
    "    measure = []\n",
    "    for line in song:\n",
    "        if line[0][0][0] == '=':\n",
    "            measure_list.append(measure)\n",
    "            measure = []\n",
    "        else:\n",
    "            measure.append(line)\n",
    "    return measure_list\n",
    "\n",
    "# Convert song to phrases\n",
    "def create_phrase_list(song, minLength):\n",
    "    phrase_list = []\n",
    "    phrase = []\n",
    "    for i, line in enumerate(song):\n",
    "        try:\n",
    "            # if i == 0:\n",
    "            #     phrase.append(line)\n",
    "            if line[2] in ['4', '5']:\n",
    "                if len(phrase) >= minLength:\n",
    "                    phrase_list.append(phrase)\n",
    "                phrase = []\n",
    "                phrase.append(line)\n",
    "            elif line[2][0] == '=':\n",
    "                continue\n",
    "            else:\n",
    "                phrase.append(line)\n",
    "        except:\n",
    "            continue\n",
    "    return phrase_list\n",
    "\n",
    "def create_custom_list(song, basisVectorSize):\n",
    "    \"\"\"\n",
    "    Create a custom grouping of vectors based on the basis vector size\n",
    "    Input: song array, basis vector size\n",
    "    Output: A list with sublists of length = basisVectorSize as each item. One sublist ends when sum(1/line[0]) = 1 and basisVectorSize is reached for line in song\n",
    "    \"\"\"\n",
    "    \n",
    "    basis = basisVectorSize\n",
    "    dict = {'16%13' : 13*basis/16, '24' : basis/24, '32%5': 5*basis/32, '12': basis/12, '8%5': 5*basis/8, '.': basis/4, '16%9': 9*basis/16, \n",
    "    '16%11': 11*basis/16, '16%15': 15*basis/16, '32%31': 31*basis/32, '16%5': 5*basis/16, '32%9': 9*basis/32, '6': basis/6, '3': basis/3, \n",
    "    '1': basis, '2': basis/2, '4': basis/4, '8': basis/8, '16': basis/16, '32': basis/32, '8.': 1.5*basis/8, '2..': 1.75*basis/2, \n",
    "    '4.': 1.5*basis/4, '16.': 1.5*basis/16, '2.': 1.5*basis/2, '4..': 1.75*basis/4, '2...': 1.875*basis/2, '.': 0}\n",
    "\n",
    "    vectorLength = 0\n",
    "    custom_list = []\n",
    "    custom = []\n",
    "    init = False\n",
    "    for line in song:\n",
    "        # Only start appending when first element appears which is in dict and not a .\n",
    "        if init is False:\n",
    "            if line[0][0] in dict and line[0][0] != '.':\n",
    "                init = True\n",
    "                custom.append(line)\n",
    "                vectorLength += dict[line[0][0]]\n",
    "\n",
    "\n",
    "        else:\n",
    "            if line[0][0] in dict:\n",
    "                if vectorLength < basisVectorSize:\n",
    "                    custom.append(line)\n",
    "                    # print (custom)\n",
    "                    vectorLength += 1\n",
    "                elif vectorLength == basisVectorSize:\n",
    "                    custom_list.append(custom)\n",
    "                    custom = []\n",
    "                    vectorLength = 0\n",
    "            \n",
    "    return custom_list\n",
    "\n",
    "def create_measure_list_all(song_list):\n",
    "    measure_list_all = []\n",
    "    for song in song_list:\n",
    "        measure_list = create_measure_list(song)\n",
    "        measure_list_all.append(measure_list)\n",
    "    return measure_list_all\n",
    "\n",
    "def create_phrase_list_all(song_list, minLength):\n",
    "    phrase_list_all = []\n",
    "    for song in song_list:\n",
    "        phrase_list = create_phrase_list(song, minLength)\n",
    "        phrase_list_all.append(phrase_list)\n",
    "    return phrase_list_all\n",
    "\n",
    "def create_custom_list_all(song_list, basisVectorSize):\n",
    "    custom_list_all = []\n",
    "    for song in song_list:\n",
    "        custom_list = create_custom_list(song, basisVectorSize)\n",
    "        custom_list_all.append(custom_list)\n",
    "    return custom_list_all\n",
    "\n",
    "def get_phrase_lengths(song):\n",
    "    return [len(p) for p in song]\n",
    "\n",
    "def getTotalPhrases(song_list):\n",
    "    \"\"\"\n",
    "    input: dataset array consisting of all songs by phrases\n",
    "    output: Total number of phrases in the array\n",
    "    \"\"\"\n",
    "    return sum([len(song) for song in song_list])"
   ]
  },
  {
   "cell_type": "code",
   "execution_count": 8,
   "metadata": {},
   "outputs": [],
   "source": [
    "def pad(song, durations):\n",
    "    padding = ['.', '.', '.', '.', '.']\n",
    "    \n",
    "    # Append the padding vector n times to after line of a song. n = durations[i] for line i\n",
    "    padded = []\n",
    "    for i, line in enumerate(song):\n",
    "        padded.append(line)\n",
    "        for j in range(int(durations[i])-1):\n",
    "            padded.append(padding)\n",
    "    \n",
    "    return padded\n",
    "\n",
    "def slice(padded, basisVectorSize):\n",
    "    length = len(padded)\n",
    "    numSlices = int(np.ceil(length/basisVectorSize))\n",
    "    slices = [None]*numSlices\n",
    "    for i in range(numSlices):\n",
    "        slices[i] = padded[i*basisVectorSize:(i+1)*basisVectorSize]\n",
    "        # print (f'len slices[i]: {len(slices[i])}')\n",
    "    return slices\n",
    "\n",
    "def create_metpos_list(song, basisVectorSize):\n",
    "    basis = basisVectorSize\n",
    "    dict = {'16%13' : 13*basis/16, '24' : basis/24, '32%5': 5*basis/32, '12': basis/12, '8%5': 5*basis/8, '.': basis/4, '16%9': 9*basis/16, \n",
    "    '16%11': 11*basis/16, '16%15': 15*basis/16, '32%31': 31*basis/32, '16%5': 5*basis/16, '32%9': 9*basis/32, '6': basis/6, '3': basis/3, \n",
    "    '1': basis, '2': basis/2, '4': basis/4, '8': basis/8, '16': basis/16, '32': basis/32, '8.': 1.5*basis/8, '2..': 1.75*basis/2, \n",
    "    '4.': 1.5*basis/4, '16.': 1.5*basis/16, '2.': 1.5*basis/2, '4..': 1.75*basis/4, '2...': 1.875*basis/2, '.': 0}\n",
    "    \n",
    "    pad_lengths = []\n",
    "    song_clean = []\n",
    "    \n",
    "    for line in song:\n",
    "        vectorLength = 0\n",
    "        recip = line[0]\n",
    "        if recip in dict:\n",
    "            pad_length = dict[recip]\n",
    "            pad_lengths.append(pad_length)\n",
    "            song_clean.append(line)\n",
    "\n",
    "    # print (f'len song_clean: {len(song_clean)}') #, song_clean: {song_clean}')\n",
    "    song_clean = pad(song_clean, pad_lengths)\n",
    "    # print (f'len padded: {len(song_clean)}') #, song_clean: {song_clean}')\n",
    "    # print (len(song_clean[0]))\n",
    "    # print (song_clean[0])\n",
    "    song_clean = slice(song_clean, basisVectorSize)\n",
    "    # print (f'len sliced: {len(song_clean)}, len sliced[0]: {len(song_clean[0])}')\n",
    "    # print (len(song_clean[0]))\n",
    "    \n",
    "    return song_clean\n",
    "\n",
    "def create_metpos_list_all(song_list, basisVectorSize):\n",
    "    metpos_list_all = []\n",
    "    for song in song_list:\n",
    "        metpos_list = create_metpos_list(song, basisVectorSize)\n",
    "        metpos_list_all.extend([metpos_list])\n",
    "        # print (f'len(metpos_list_: {len(metpos_list)}, len(metpos_list_all): {len(metpos_list_all)}')\n",
    "    return metpos_list_all"
   ]
  },
  {
   "cell_type": "code",
   "execution_count": 9,
   "metadata": {},
   "outputs": [],
   "source": [
    "def extract_features(phrase):\n",
    "    \"\"\"\n",
    "    Input: a phrase\n",
    "    Output: a list of features\n",
    "    \"\"\"\n",
    "    durations = []\n",
    "    stresses = []\n",
    "    lyrics = []\n",
    "    for line in phrase:\n",
    "        try:\n",
    "            durations.append(line[0])\n",
    "            # print (f'stress: {line[1]}, type: {type(line[1])}')\n",
    "            stresses.append(line[1])\n",
    "            lyrics.append(line[3])\n",
    "            # print (f'dur: {line[0]}, stress: {line[1]}, lyric: {line[3]}, metpos: {line[4]}')\n",
    "        except:\n",
    "            continue\n",
    "    return durations, stresses, lyrics\n",
    "\n",
    "def extract_features_from_song(phrases):\n",
    "    \"\"\"\n",
    "    Input: a song\n",
    "    Output: a list of features\n",
    "    \"\"\"\n",
    "    durations_phrases = []\n",
    "    stresses_phrases = []\n",
    "    lyrics_phrases = []\n",
    "    for phrase in phrases:\n",
    "        durations, stresses, lyrics = extract_features(phrase)\n",
    "        if durations != []:\n",
    "            durations_phrases.append(durations)\n",
    "            stresses_phrases.append(stresses)\n",
    "            lyrics_phrases.append(lyrics)\n",
    "    return durations_phrases, stresses_phrases, lyrics_phrases\n",
    "\n",
    "def extract_features_from_song_list(song_list):\n",
    "    \"\"\"\n",
    "    Input: a list of songs\n",
    "    Output: a list of features\n",
    "    \"\"\"\n",
    "    durations_all = []\n",
    "    stresses_all = []\n",
    "    lyrics_all = []\n",
    "    for song in tqdm(song_list):\n",
    "        durations, stresses, lyrics = extract_features_from_song(song)\n",
    "        durations_all.append(durations)\n",
    "        stresses_all.append(stresses)\n",
    "        lyrics_all.append(lyrics)\n",
    "    return durations_all, stresses_all, lyrics_all"
   ]
  },
  {
   "cell_type": "code",
   "execution_count": 34,
   "metadata": {},
   "outputs": [
    {
     "name": "stdout",
     "output_type": "stream",
     "text": [
      "21\n"
     ]
    }
   ],
   "source": [
    "# Read dataset\n",
    "vector_size = 96\n",
    "dirPath = f'extracted/metpos/{vector_size}'\n",
    "files = glob.glob(os.path.join(dirPath, '*.txt'))\n",
    "print (len(files))"
   ]
  },
  {
   "cell_type": "code",
   "execution_count": 35,
   "metadata": {},
   "outputs": [
    {
     "name": "stdout",
     "output_type": "stream",
     "text": [
      "dataset size: 121\n"
     ]
    }
   ],
   "source": [
    "songs = read_all_txt(files)\n",
    "print (f'dataset size: {len(songs)}')"
   ]
  },
  {
   "cell_type": "code",
   "execution_count": 40,
   "metadata": {},
   "outputs": [
    {
     "name": "stdout",
     "output_type": "stream",
     "text": [
      "song phrases: 121. song measures: 121. custom: 121, metpos: 121\n"
     ]
    }
   ],
   "source": [
    "song_measures = create_measure_list_all(songs)\n",
    "song_phrases = create_phrase_list_all(songs, minLength = 4)\n",
    "song_custom = create_custom_list_all(songs, vector_size)\n",
    "song_metpos  = create_metpos_list_all(songs, vector_size)\n",
    "print (f'song phrases: {len(song_phrases)}. song measures: {len(song_measures)}. custom: {len(song_custom)}, metpos: {len(song_metpos)}')"
   ]
  },
  {
   "cell_type": "code",
   "execution_count": 41,
   "metadata": {},
   "outputs": [
    {
     "name": "stdout",
     "output_type": "stream",
     "text": [
      "96\n"
     ]
    }
   ],
   "source": [
    "print (len(song_metpos[0][0]))"
   ]
  },
  {
   "cell_type": "code",
   "execution_count": 42,
   "metadata": {},
   "outputs": [
    {
     "name": "stdout",
     "output_type": "stream",
     "text": [
      "len custom: 96, len custom[0]: <class 'list'>, custom: 5\n",
      "len measure: 7, len measures[0]: <class 'list'>, measure: 5\n",
      "len metpos: 96, len metpos[0]: <class 'list'>, metpos: 5\n"
     ]
    }
   ],
   "source": [
    "print (f'len custom: {len(song_custom[0][3])}, len custom[0]: {type(song_custom[0][0])}, custom: {len(song_custom[0][0][0])}')\n",
    "print (f'len measure: {len(song_measures[0][1])}, len measures[0]: {type(song_measures[0][1])}, measure: {len(song_measures[0][1][0])}')\n",
    "print (f'len metpos: {len(song_metpos[0][1])}, len metpos[0]: {type(song_metpos[0][1])}, metpos: {len(song_metpos[0][0][0])}')"
   ]
  },
  {
   "cell_type": "code",
   "execution_count": 43,
   "metadata": {},
   "outputs": [],
   "source": [
    "# print (song_metpos[0][0])"
   ]
  },
  {
   "cell_type": "code",
   "execution_count": 740,
   "metadata": {},
   "outputs": [
    {
     "name": "stdout",
     "output_type": "stream",
     "text": [
      "len measures: 51, len phrases: 59, len custom: 6\n",
      "len measures[index]: 7, len phrases[index]: 12, len custom[index]: 96\n"
     ]
    }
   ],
   "source": [
    "songNum = 0\n",
    "index = 1\n",
    "song = songs[songNum]\n",
    "measures_test = create_measure_list(song)\n",
    "phrases_test = create_phrase_list(song, minLength=4)\n",
    "custom_test = create_custom_list(song, vector_size)\n",
    "print (f'len measures: {len(measures_test)}, len phrases: {len(phrases_test)}, len custom: {len(custom_test)}')\n",
    "print (f'len measures[index]: {len(measures_test[index])}, len phrases[index]: {len(phrases_test[index])}, len custom[index]: {len(custom_test[index])}')"
   ]
  },
  {
   "cell_type": "code",
   "execution_count": 741,
   "metadata": {},
   "outputs": [],
   "source": [
    "# print (custom_test[1])\n",
    "# print (measures_test[1])\n",
    "# print (phrases_test[1])"
   ]
  },
  {
   "cell_type": "code",
   "execution_count": 45,
   "metadata": {},
   "outputs": [
    {
     "name": "stdout",
     "output_type": "stream",
     "text": [
      "total_phrases: 7273. phrases_per_song: 60.107438016528924\n",
      "total_measures: 6262. measures_per_song: 51.752066115702476\n",
      "total_custom: 729. custom_per_song: 6.024793388429752\n",
      "total_metpos: 6269. metpos_per_song: 51.8099173553719\n"
     ]
    }
   ],
   "source": [
    "# Get dataset phrase summary\n",
    "total_phrases = getTotalPhrases(song_phrases)\n",
    "total_measures = getTotalPhrases(song_measures)\n",
    "total_custom = getTotalPhrases(song_custom)\n",
    "total_metpos = getTotalPhrases(song_metpos)\n",
    "phrases_per_song = total_phrases/len(songs)\n",
    "measures_per_song = total_measures/len(songs)\n",
    "custom_per_song = total_custom/len(songs)\n",
    "metpos_per_song = total_metpos/len(songs)\n",
    "print (f'total_phrases: {total_phrases}. phrases_per_song: {phrases_per_song}')\n",
    "print (f'total_measures: {total_measures}. measures_per_song: {measures_per_song}')\n",
    "print (f'total_custom: {total_custom}. custom_per_song: {custom_per_song}')\n",
    "print (f'total_metpos: {total_metpos}. metpos_per_song: {metpos_per_song}')"
   ]
  },
  {
   "cell_type": "code",
   "execution_count": 743,
   "metadata": {},
   "outputs": [],
   "source": [
    "# features = extract_features_from_song(song_phrases)"
   ]
  },
  {
   "cell_type": "code",
   "execution_count": 744,
   "metadata": {},
   "outputs": [],
   "source": [
    "# phraseNum = 1\n",
    "# [print (len(features[phraseNum][i])) for i in range(4)]\n",
    "# print (f'len features: {len(features)}; len features[0]: {len(features[0])}; len features[0][0]: {len(features[0][42])}')"
   ]
  },
  {
   "cell_type": "code",
   "execution_count": 46,
   "metadata": {},
   "outputs": [
    {
     "name": "stderr",
     "output_type": "stream",
     "text": [
      "100%|██████████| 121/121 [00:00<00:00, 1449.31it/s]\n",
      "100%|██████████| 121/121 [00:00<00:00, 1240.50it/s]\n",
      "100%|██████████| 121/121 [00:00<00:00, 1352.00it/s]\n",
      "100%|██████████| 121/121 [00:01<00:00, 115.26it/s]\n"
     ]
    }
   ],
   "source": [
    "# durations_phrases, stresses_phrases, lyrics_phrases, metpositions_phrases = extract_features_from_song(song_phrases[0])\n",
    "recips_phrases_dataset, stresses_phrases_dataset, lyrics_phrases_dataset = extract_features_from_song_list(song_phrases)\n",
    "recips_measures_dataset, stresses_measures_dataset, lyrics_measures_dataset = extract_features_from_song_list(song_measures)\n",
    "recips_custom_dataset, stresses_custom_dataset, lyrics_custom_dataset = extract_features_from_song_list(song_custom)\n",
    "recips_metpos_dataset, stresses_metpos_dataset, lyrics_metpos_dataset = extract_features_from_song_list(song_metpos)"
   ]
  },
  {
   "cell_type": "code",
   "execution_count": 47,
   "metadata": {},
   "outputs": [
    {
     "name": "stdout",
     "output_type": "stream",
     "text": [
      "['2', '.', '.', '.', '2.58496']\n",
      "['2', '.', '.', '.', '2.58496']\n"
     ]
    }
   ],
   "source": [
    "print (song_custom[0][0][0])\n",
    "print (song_metpos[0][0][0])"
   ]
  },
  {
   "cell_type": "code",
   "execution_count": 48,
   "metadata": {},
   "outputs": [
    {
     "name": "stdout",
     "output_type": "stream",
     "text": [
      "stresses phrases: 121, stresses[0]: 59, stresses[0][0]: 14\n",
      "stresses measures: 121, stresses[0]: 50, stresses[0][0]: 7\n",
      "stresses custom: 121, stresses[0]: 6, stresses[0][0]: 49\n",
      "stresses metpos: 121, stresses[0]: 51, stresses[0][0]: 96\n"
     ]
    }
   ],
   "source": [
    "print (f'stresses phrases: {len(stresses_phrases_dataset)}, stresses[0]: {len(stresses_phrases_dataset[0])}, stresses[0][0]: {len(stresses_phrases_dataset[0][0])}')\n",
    "print (f'stresses measures: {len(stresses_measures_dataset)}, stresses[0]: {len(stresses_measures_dataset[0])}, stresses[0][0]: {len(stresses_measures_dataset[0][0])}')\n",
    "print (f'stresses custom: {len(stresses_custom_dataset)}, stresses[0]: {len(stresses_custom_dataset[0])}, stresses[0][0]: {len(stresses_custom_dataset[0][0])}')\n",
    "print (f'stresses metpos: {len(stresses_metpos_dataset)}, stresses[0]: {len(stresses_metpos_dataset[0])}, stresses[0][0]: {len(stresses_metpos_dataset[0][0])}')"
   ]
  },
  {
   "cell_type": "code",
   "execution_count": 49,
   "metadata": {},
   "outputs": [
    {
     "name": "stdout",
     "output_type": "stream",
     "text": [
      "['1', '.', '.', '.', '.', '.', '0', '.', '.', '.', '.', '.', '1', '.', '.', '.', '.', '.', '.', '.', '.', '.', '.', '.', '1', '.', '.', '.', '.', '.', '0', '.', '.', '.', '.', '.', '1', '.', '.', '.', '.', '.', '.', '.', '.', '.', '.', '.', '1', '.', '.', '.', '.', '.', '.', '.', '.', '.', '.', '.', '1', '.', '.', '.', '.', '.', '.', '.', '.', '.', '.', '.', '1', '.', '.', '.', '.', '.', '.', '.', '.', '.', '.', '.', '1', '.', '.', '.', '.', '.', '0', '.', '.', '.', '.', '.']\n",
      "['1', '0', '1', '1', '0', '1', '1', '1', '1', '1', '0']\n",
      "['16', '16', '8', '16', '16', '8', '8', '8', '8', '16', '16']\n"
     ]
    }
   ],
   "source": [
    "# print (stresses_custom_dataset[0][0])\n",
    "# print (stresses_metpos_dataset[0][0])\n",
    "num = 1\n",
    "print (stresses_metpos_dataset[0][num])\n",
    "print (stresses_measures_dataset[0][num])\n",
    "print (recips_measures_dataset[0][num])\n",
    "# print (lyrics_metpos_dataset[0][num])\n",
    "# print (recips_metpos_dataset[0][num])"
   ]
  },
  {
   "cell_type": "code",
   "execution_count": 50,
   "metadata": {},
   "outputs": [],
   "source": [
    "def get_recips_dur_phrase(recips, basis):\n",
    "    \"\"\"\n",
    "    Input an array containing recips of a phrase\n",
    "    Returns duration of a phrase in note durations\n",
    "    \"\"\"\n",
    "    dict = {'16%13' : 13*basis/16, '24' : basis/24, '32%5': 5*basis/32, '12': basis/12, '8%5': 5*basis/8, '.': basis/4, '16%9': 9*basis/16, \n",
    "    '16%11': 11*basis/16, '16%15': 15*basis/16, '32%31': 31*basis/32, '16%5': 5*basis/16, '32%9': 9*basis/32, '6': basis/6, '3': basis/3, \n",
    "    '1': basis, '2': basis/2, '4': basis/4, '8': basis/8, '16': basis/16, '32': basis/32, '8.': 1.5*basis/8, '2..': 1.75*basis/2, \n",
    "    '4.': 1.5*basis/4, '16.': 1.5*basis/16, '2.': 1.5*basis/2, '4..': 1.75*basis/4, '2...': 1.875*basis/2, '.': 0}\n",
    "    notePhrase = 0\n",
    "    for recip in recips:\n",
    "        if recip in dict:\n",
    "            if recip != '.':\n",
    "                dur = 1./int(dict[recip])\n",
    "            else:\n",
    "                dur = 0\n",
    "            notePhrase += dur\n",
    "    \n",
    "    return notePhrase"
   ]
  },
  {
   "cell_type": "markdown",
   "metadata": {},
   "source": [
    "### Get unique stress patterns in a song"
   ]
  },
  {
   "cell_type": "code",
   "execution_count": 51,
   "metadata": {},
   "outputs": [],
   "source": [
    "def get_unique_values(stressVectorsSong):\n",
    "    return [list(x) for x in set(tuple(x) for x in stressVectorsSong)]\n",
    "\n",
    "def get_repeat_proportion_duration(stresses_dataset):\n",
    "    proportion = np.array([])\n",
    "    for songNum in np.arange(len(stresses_dataset)):\n",
    "        stressVectorsSong = stresses_dataset[songNum]\n",
    "        unique_data = get_unique_values(stressVectorsSong)\n",
    "        # print (f'unique vectors: {len(unique_data)}. stressVectorsSong: {len(stressVectorsSong)}')\n",
    "        proportion = np.append(proportion, len(stressVectorsSong)/len(unique_data))\n",
    "    return proportion\n",
    "\n",
    "def get_stress_vector_lengths(stresses_dataset):\n",
    "    lengths = []\n",
    "    for songNum, song in enumerate(stresses_dataset):\n",
    "        lengths_song = []\n",
    "        for chunk in song:\n",
    "            lengths_song.append(len(chunk))\n",
    "        lengths.append(lengths_song)\n",
    "    return lengths"
   ]
  },
  {
   "cell_type": "code",
   "execution_count": 52,
   "metadata": {},
   "outputs": [
    {
     "name": "stdout",
     "output_type": "stream",
     "text": [
      "Measures: max: 2.2941176470588234, min: 1.0, mean: 1.121238861185974, median: 1.044776119402985\n",
      "Phrases: max: 3.7142857142857144, min: 1.0, mean: 1.2481753115710474, median: 1.1458333333333333\n",
      "Custom: max: 1.0, min: 1.0, mean: 1.0, median: 1.0\n"
     ]
    }
   ],
   "source": [
    "prop = get_repeat_proportion_duration(stresses_measures_dataset)\n",
    "print (f'Measures: max: {np.max(prop)}, min: {np.min(prop)}, mean: {np.mean(prop)}, median: {np.median(prop)}')\n",
    "\n",
    "prop = get_repeat_proportion_duration(stresses_phrases_dataset)\n",
    "print (f'Phrases: max: {np.max(prop)}, min: {np.min(prop)}, mean: {np.mean(prop)}, median: {np.median(prop)}')\n",
    "\n",
    "prop = get_repeat_proportion_duration(stresses_custom_dataset)\n",
    "print (f'Custom: max: {np.max(prop)}, min: {np.min(prop)}, mean: {np.mean(prop)}, median: {np.median(prop)}')"
   ]
  },
  {
   "cell_type": "code",
   "execution_count": 23,
   "metadata": {},
   "outputs": [
    {
     "ename": "IndexError",
     "evalue": "index 51 is out of bounds for axis 0 with size 51",
     "output_type": "error",
     "traceback": [
      "\u001b[0;31m---------------------------------------------------------------------------\u001b[0m",
      "\u001b[0;31mIndexError\u001b[0m                                Traceback (most recent call last)",
      "\u001b[0;32m<ipython-input-23-fdbcb3da8ff5>\u001b[0m in \u001b[0;36m<module>\u001b[0;34m\u001b[0m\n\u001b[1;32m     19\u001b[0m \u001b[0;34m\u001b[0m\u001b[0m\n\u001b[1;32m     20\u001b[0m \u001b[0msongNum\u001b[0m \u001b[0;34m=\u001b[0m \u001b[0;36m1\u001b[0m\u001b[0;34m\u001b[0m\u001b[0m\n\u001b[0;32m---> 21\u001b[0;31m \u001b[0mzeros\u001b[0m\u001b[0;34m,\u001b[0m \u001b[0mones\u001b[0m\u001b[0;34m,\u001b[0m \u001b[0mrests\u001b[0m \u001b[0;34m=\u001b[0m \u001b[0mextract_stress_plot_data\u001b[0m\u001b[0;34m(\u001b[0m\u001b[0mstresses_metpos_dataset\u001b[0m\u001b[0;34m[\u001b[0m\u001b[0msongNum\u001b[0m\u001b[0;34m]\u001b[0m\u001b[0;34m)\u001b[0m\u001b[0;34m\u001b[0m\u001b[0m\n\u001b[0m\u001b[1;32m     22\u001b[0m \u001b[0mprint\u001b[0m \u001b[0;34m(\u001b[0m\u001b[0mones\u001b[0m\u001b[0;34m)\u001b[0m\u001b[0;34m\u001b[0m\u001b[0m\n",
      "\u001b[0;32m<ipython-input-23-fdbcb3da8ff5>\u001b[0m in \u001b[0;36mextract_stress_plot_data\u001b[0;34m(stresses_metpos)\u001b[0m\n\u001b[1;32m     14\u001b[0m                 \u001b[0mones\u001b[0m\u001b[0;34m[\u001b[0m\u001b[0mk\u001b[0m\u001b[0;34m]\u001b[0m \u001b[0;34m+=\u001b[0m \u001b[0;36m1\u001b[0m\u001b[0;34m\u001b[0m\u001b[0m\n\u001b[1;32m     15\u001b[0m             \u001b[0;32mif\u001b[0m \u001b[0ms\u001b[0m\u001b[0;34m[\u001b[0m\u001b[0mk\u001b[0m\u001b[0;34m]\u001b[0m \u001b[0;34m==\u001b[0m \u001b[0;34m'.'\u001b[0m\u001b[0;34m:\u001b[0m\u001b[0;34m\u001b[0m\u001b[0m\n\u001b[0;32m---> 16\u001b[0;31m                 \u001b[0mrests\u001b[0m\u001b[0;34m[\u001b[0m\u001b[0mk\u001b[0m\u001b[0;34m]\u001b[0m \u001b[0;34m+=\u001b[0m \u001b[0;36m1\u001b[0m\u001b[0;34m\u001b[0m\u001b[0m\n\u001b[0m\u001b[1;32m     17\u001b[0m \u001b[0;34m\u001b[0m\u001b[0m\n\u001b[1;32m     18\u001b[0m     \u001b[0;32mreturn\u001b[0m \u001b[0mzeros\u001b[0m\u001b[0;34m,\u001b[0m \u001b[0mones\u001b[0m\u001b[0;34m,\u001b[0m \u001b[0mrests\u001b[0m\u001b[0;34m\u001b[0m\u001b[0m\n",
      "\u001b[0;31mIndexError\u001b[0m: index 51 is out of bounds for axis 0 with size 51"
     ]
    }
   ],
   "source": [
    "# plt.plot(stresses_metpos_dataset[0][2])\n",
    "# Plot for a song\n",
    "\n",
    "def extract_stress_plot_data(stresses_metpos):\n",
    "    vector_size = len(stresses_metpos)\n",
    "    zeros = np.zeros(vector_size)\n",
    "    ones = np.zeros(vector_size)\n",
    "    rests = np.zeros(vector_size)\n",
    "    for i, s in enumerate(stresses_metpos):\n",
    "        for k in range(len(s)):\n",
    "            if s[k] == '0':\n",
    "                zeros[k] += 1\n",
    "            if s[k] == '1':\n",
    "                ones[k] += 1\n",
    "            if s[k] == '.':\n",
    "                rests[k] += 1\n",
    "    \n",
    "    return zeros, ones, rests\n",
    "\n",
    "songNum = 1\n",
    "zeros, ones, rests = extract_stress_plot_data(stresses_metpos_dataset[songNum])\n",
    "print (ones)"
   ]
  },
  {
   "cell_type": "code",
   "execution_count": 24,
   "metadata": {},
   "outputs": [],
   "source": [
    "# stresses_metpos_dataset[0]"
   ]
  },
  {
   "cell_type": "code",
   "execution_count": 25,
   "metadata": {},
   "outputs": [
    {
     "ename": "NameError",
     "evalue": "name 'zeros' is not defined",
     "output_type": "error",
     "traceback": [
      "\u001b[0;31m---------------------------------------------------------------------------\u001b[0m",
      "\u001b[0;31mNameError\u001b[0m                                 Traceback (most recent call last)",
      "\u001b[0;32m<ipython-input-25-3f6b97d0f625>\u001b[0m in \u001b[0;36m<module>\u001b[0;34m\u001b[0m\n\u001b[1;32m      8\u001b[0m \u001b[0mfig\u001b[0m\u001b[0;34m,\u001b[0m \u001b[0max\u001b[0m \u001b[0;34m=\u001b[0m \u001b[0mplt\u001b[0m\u001b[0;34m.\u001b[0m\u001b[0msubplots\u001b[0m\u001b[0;34m(\u001b[0m\u001b[0mfigsize\u001b[0m \u001b[0;34m=\u001b[0m \u001b[0;34m(\u001b[0m\u001b[0;36m15\u001b[0m\u001b[0;34m,\u001b[0m \u001b[0;36m6\u001b[0m\u001b[0;34m)\u001b[0m\u001b[0;34m)\u001b[0m\u001b[0;34m\u001b[0m\u001b[0m\n\u001b[1;32m      9\u001b[0m \u001b[0;34m\u001b[0m\u001b[0m\n\u001b[0;32m---> 10\u001b[0;31m \u001b[0max\u001b[0m\u001b[0;34m.\u001b[0m\u001b[0mbar\u001b[0m\u001b[0;34m(\u001b[0m\u001b[0mlabels\u001b[0m\u001b[0;34m,\u001b[0m \u001b[0mzeros\u001b[0m\u001b[0;34m,\u001b[0m \u001b[0mlabel\u001b[0m\u001b[0;34m=\u001b[0m\u001b[0;34m'Zero'\u001b[0m\u001b[0;34m)\u001b[0m\u001b[0;34m\u001b[0m\u001b[0m\n\u001b[0m\u001b[1;32m     11\u001b[0m \u001b[0;31m# ax.bar(labels, ones, bottom=zeros,\u001b[0m\u001b[0;34m\u001b[0m\u001b[0;34m\u001b[0m\u001b[0m\n\u001b[1;32m     12\u001b[0m \u001b[0;31m#        label='Ones')\u001b[0m\u001b[0;34m\u001b[0m\u001b[0;34m\u001b[0m\u001b[0m\n",
      "\u001b[0;31mNameError\u001b[0m: name 'zeros' is not defined"
     ]
    },
    {
     "data": {
      "image/png": "[encoded data removed]",
      "text/plain": [
       "<Figure size 1080x432 with 1 Axes>"
      ]
     },
     "metadata": {
      "needs_background": "light"
     },
     "output_type": "display_data"
    }
   ],
   "source": [
    "# plt.figure(figsize = (15, 9))\n",
    "# plt.stackplot(np.arange(vector_size), zeros, ones, labels=['0', '1'])\n",
    "# plt.title('')\n",
    "# plt.ylabel('Number of phrases')\n",
    "\n",
    "labels = np.arange(vector_size)\n",
    "\n",
    "fig, ax = plt.subplots(figsize = (15, 6))\n",
    "\n",
    "ax.bar(labels, zeros, label='Zero')\n",
    "# ax.bar(labels, ones, bottom=zeros,\n",
    "#        label='Ones')\n",
    "ax.set_ylabel('Number of phrases')\n",
    "ax.set_title('Stressed vs unstressed utterances for a song')\n",
    "ax.legend()\n",
    "\n",
    "plt.show()"
   ]
  },
  {
   "cell_type": "code",
   "execution_count": 26,
   "metadata": {},
   "outputs": [
    {
     "ename": "NameError",
     "evalue": "name 'zeros' is not defined",
     "output_type": "error",
     "traceback": [
      "\u001b[0;31m---------------------------------------------------------------------------\u001b[0m",
      "\u001b[0;31mNameError\u001b[0m                                 Traceback (most recent call last)",
      "\u001b[0;32m<ipython-input-26-e1c0eb15f01c>\u001b[0m in \u001b[0;36m<module>\u001b[0;34m\u001b[0m\n\u001b[1;32m      1\u001b[0m \u001b[0mlabels\u001b[0m \u001b[0;34m=\u001b[0m \u001b[0mnp\u001b[0m\u001b[0;34m.\u001b[0m\u001b[0marange\u001b[0m\u001b[0;34m(\u001b[0m\u001b[0mvector_size\u001b[0m\u001b[0;34m)\u001b[0m\u001b[0;34m\u001b[0m\u001b[0m\n\u001b[1;32m      2\u001b[0m \u001b[0mfig\u001b[0m\u001b[0;34m,\u001b[0m \u001b[0max\u001b[0m \u001b[0;34m=\u001b[0m \u001b[0mplt\u001b[0m\u001b[0;34m.\u001b[0m\u001b[0msubplots\u001b[0m\u001b[0;34m(\u001b[0m\u001b[0mfigsize\u001b[0m \u001b[0;34m=\u001b[0m \u001b[0;34m(\u001b[0m\u001b[0;36m15\u001b[0m\u001b[0;34m,\u001b[0m \u001b[0;36m6\u001b[0m\u001b[0;34m)\u001b[0m\u001b[0;34m)\u001b[0m\u001b[0;34m\u001b[0m\u001b[0m\n\u001b[0;32m----> 3\u001b[0;31m \u001b[0max\u001b[0m\u001b[0;34m.\u001b[0m\u001b[0mbar\u001b[0m\u001b[0;34m(\u001b[0m\u001b[0mlabels\u001b[0m\u001b[0;34m,\u001b[0m \u001b[0mzeros\u001b[0m\u001b[0;34m,\u001b[0m \u001b[0mlabel\u001b[0m\u001b[0;34m=\u001b[0m\u001b[0;34m'Zero'\u001b[0m\u001b[0;34m)\u001b[0m\u001b[0;34m\u001b[0m\u001b[0m\n\u001b[0m\u001b[1;32m      4\u001b[0m \u001b[0max\u001b[0m\u001b[0;34m.\u001b[0m\u001b[0mset_xlabel\u001b[0m\u001b[0;34m(\u001b[0m\u001b[0;34m'Metric position'\u001b[0m\u001b[0;34m)\u001b[0m\u001b[0;34m\u001b[0m\u001b[0m\n\u001b[1;32m      5\u001b[0m \u001b[0max\u001b[0m\u001b[0;34m.\u001b[0m\u001b[0mset_ylabel\u001b[0m\u001b[0;34m(\u001b[0m\u001b[0;34m'Number of phrases'\u001b[0m\u001b[0;34m)\u001b[0m\u001b[0;34m\u001b[0m\u001b[0m\n",
      "\u001b[0;31mNameError\u001b[0m: name 'zeros' is not defined"
     ]
    },
    {
     "data": {
      "image/png": "[encoded data removed]",
      "text/plain": [
       "<Figure size 1080x432 with 1 Axes>"
      ]
     },
     "metadata": {
      "needs_background": "light"
     },
     "output_type": "display_data"
    }
   ],
   "source": [
    "labels = np.arange(vector_size)\n",
    "fig, ax = plt.subplots(figsize = (15, 6))\n",
    "ax.bar(labels, zeros, label='Zero')\n",
    "ax.set_xlabel('Metric position')\n",
    "ax.set_ylabel('Number of phrases')\n",
    "ax.set_title('Unstressed utterances aggregated for a song by metric position')\n",
    "# plt.savefig('images/unstressed.png')"
   ]
  },
  {
   "cell_type": "code",
   "execution_count": 864,
   "metadata": {},
   "outputs": [
    {
     "data": {
      "image/png": "[encoded data removed]",
      "text/plain": [
       "<Figure size 1080x432 with 1 Axes>"
      ]
     },
     "metadata": {
      "needs_background": "light"
     },
     "output_type": "display_data"
    }
   ],
   "source": [
    "labels = np.arange(vector_size)\n",
    "fig, ax = plt.subplots(figsize = (15, 6))\n",
    "ax.bar(labels, ones, label='One')\n",
    "ax.set_xlabel('Metric position')\n",
    "ax.set_ylabel('Number of phrases')\n",
    "ax.set_title('Stressed utterances aggregated for a song by metric position')\n",
    "# plt.savefig('images/stressed.png')"
   ]
  },
  {
   "cell_type": "code",
   "execution_count": 755,
   "metadata": {},
   "outputs": [
    {
     "data": {
      "text/plain": [
       "[<matplotlib.lines.Line2D at 0x122cd8128>]"
      ]
     },
     "execution_count": 755,
     "metadata": {},
     "output_type": "execute_result"
    },
    {
     "data": {
      "image/png": "[encoded data removed]",
      "text/plain": [
       "<Figure size 432x288 with 1 Axes>"
      ]
     },
     "metadata": {
      "needs_background": "light"
     },
     "output_type": "display_data"
    }
   ],
   "source": [
    "plt.plot(rests)"
   ]
  },
  {
   "cell_type": "code",
   "execution_count": 756,
   "metadata": {},
   "outputs": [
    {
     "data": {
      "text/plain": [
       "(array([80., 13., 10.,  4.,  5.,  1.,  2.,  0.,  1.,  2.,  0.,  1.,  0.,\n",
       "         0.,  0.,  0.,  1.,  0.,  0.,  1.]),\n",
       " array([1.        , 1.07222222, 1.14444444, 1.21666667, 1.28888889,\n",
       "        1.36111111, 1.43333333, 1.50555556, 1.57777778, 1.65      ,\n",
       "        1.72222222, 1.79444444, 1.86666667, 1.93888889, 2.01111111,\n",
       "        2.08333333, 2.15555556, 2.22777778, 2.3       , 2.37222222,\n",
       "        2.44444444]),\n",
       " <BarContainer object of 20 artists>)"
      ]
     },
     "execution_count": 756,
     "metadata": {},
     "output_type": "execute_result"
    },
    {
     "data": {
      "image/png": "[encoded data removed]",
      "text/plain": [
       "<Figure size 432x288 with 1 Axes>"
      ]
     },
     "metadata": {
      "needs_background": "light"
     },
     "output_type": "display_data"
    }
   ],
   "source": [
    "plt.hist(prop, bins = 20)"
   ]
  },
  {
   "cell_type": "markdown",
   "metadata": {},
   "source": [
    "### Find distribution of vector lengths in each song"
   ]
  },
  {
   "cell_type": "code",
   "execution_count": 757,
   "metadata": {},
   "outputs": [],
   "source": [
    "# vectorSizeMetric = number of unique lengths/total number of lengths for each song"
   ]
  },
  {
   "cell_type": "code",
   "execution_count": 27,
   "metadata": {},
   "outputs": [],
   "source": [
    "measuresVectorLengths = get_stress_vector_lengths(stresses_measures_dataset)\n",
    "phrasesVectorLengths = get_stress_vector_lengths(stresses_phrases_dataset)\n",
    "customVectorLengths = get_stress_vector_lengths(stresses_custom_dataset)"
   ]
  },
  {
   "cell_type": "code",
   "execution_count": 28,
   "metadata": {},
   "outputs": [
    {
     "name": "stdout",
     "output_type": "stream",
     "text": [
      "measures: 121, phrases: 121\n",
      "len measures[0]: 50, phrases[0]: 59\n",
      "measures[0][0]: 11, phrases[0][0]: 14\n"
     ]
    }
   ],
   "source": [
    "print (f'measures: {len(measuresVectorLengths)}, phrases: {len(phrasesVectorLengths)}')\n",
    "print (f'len measures[0]: {len(measuresVectorLengths[0])}, phrases[0]: {len(phrasesVectorLengths[0])}')\n",
    "print (f'measures[0][0]: {measuresVectorLengths[0][1]}, phrases[0][0]: {phrasesVectorLengths[0][0]}')"
   ]
  },
  {
   "cell_type": "code",
   "execution_count": 53,
   "metadata": {},
   "outputs": [],
   "source": [
    "# Find number of patterns overflowing a whole note duration. Get prop per song as well\n",
    "def get_overflowing_patterns(dataset_matrix, basis):\n",
    "    \"\"\"\n",
    "    Returns pattern length in terms of note durations and featureVectorSize for every song\n",
    "    Input: dataset_matrix = any feature matrix of the form [song][measure/phrase][feature]. eg - recips_measures_dataset, stresses_phrases_dataset, etc.\n",
    "    \"\"\"\n",
    "    segment_lengths_dur = []\n",
    "    segment_lengths = []\n",
    "    for songNum, song in enumerate(dataset_matrix):\n",
    "        lengths_dur = []\n",
    "        lengths = []\n",
    "        for recip in song:\n",
    "            length = get_recips_dur_phrase(recip, basis)\n",
    "            lengths.append(len(recip))\n",
    "            lengths_dur.append(length)\n",
    "        segment_lengths_dur.append(lengths_dur)\n",
    "        segment_lengths.append(lengths)\n",
    "    return segment_lengths_dur, segment_lengths"
   ]
  },
  {
   "cell_type": "code",
   "execution_count": 54,
   "metadata": {},
   "outputs": [],
   "source": [
    "sld_phrases, sl_phrases = get_overflowing_patterns(recips_phrases_dataset, vector_size)\n",
    "sld_measures, sl_measures = get_overflowing_patterns(recips_measures_dataset, vector_size)\n",
    "sld_custom, sl_custom = get_overflowing_patterns(recips_custom_dataset, vector_size)\n",
    "# sld_metpos, sl_metpos = get_overflowing_patterns(recips_metpos_dataset, vector_size)"
   ]
  },
  {
   "cell_type": "code",
   "execution_count": 55,
   "metadata": {},
   "outputs": [
    {
     "data": {
      "text/plain": [
       "96"
      ]
     },
     "execution_count": 55,
     "metadata": {},
     "output_type": "execute_result"
    }
   ],
   "source": [
    "len(recips_metpos_dataset[0][0])"
   ]
  },
  {
   "cell_type": "code",
   "execution_count": 56,
   "metadata": {},
   "outputs": [
    {
     "data": {
      "text/plain": [
       "Text(0, 0.5, 'Phrase length in note durations')"
      ]
     },
     "execution_count": 56,
     "metadata": {},
     "output_type": "execute_result"
    },
    {
     "data": {
      "image/png": "[encoded data removed]",
      "text/plain": [
       "<Figure size 1296x936 with 1 Axes>"
      ]
     },
     "metadata": {
      "needs_background": "light"
     },
     "output_type": "display_data"
    }
   ],
   "source": [
    "plt.figure(figsize = (18, 13))\n",
    "plt.boxplot(sld_phrases)\n",
    "plt.title('Phrase lengths per song')\n",
    "plt.ylabel('Phrase length in note durations')"
   ]
  },
  {
   "cell_type": "code",
   "execution_count": 775,
   "metadata": {},
   "outputs": [
    {
     "data": {
      "text/plain": [
       "Text(0, 0.5, 'Measure length in note durations')"
      ]
     },
     "execution_count": 775,
     "metadata": {},
     "output_type": "execute_result"
    },
    {
     "data": {
      "image/png": "[encoded data removed]",
      "text/plain": [
       "<Figure size 1296x936 with 1 Axes>"
      ]
     },
     "metadata": {
      "needs_background": "light"
     },
     "output_type": "display_data"
    }
   ],
   "source": [
    "plt.figure(figsize = (18, 13))\n",
    "plt.boxplot(sld_measures)\n",
    "plt.title('Measure lengths per song')\n",
    "plt.ylabel('Measure length in note durations')"
   ]
  },
  {
   "cell_type": "code",
   "execution_count": 432,
   "metadata": {},
   "outputs": [
    {
     "data": {
      "text/plain": [
       "Text(0, 0.5, 'Custom length in note durations')"
      ]
     },
     "execution_count": 432,
     "metadata": {},
     "output_type": "execute_result"
    },
    {
     "data": {
      "image/png": "[encoded data removed]",
      "text/plain": [
       "<Figure size 1440x1080 with 1 Axes>"
      ]
     },
     "metadata": {
      "needs_background": "light"
     },
     "output_type": "display_data"
    }
   ],
   "source": [
    "plt.figure(figsize = (20, 15))\n",
    "plt.boxplot(sld_custom)\n",
    "plt.title('Custom lengths per song')\n",
    "plt.ylabel('Custom length in note durations')"
   ]
  },
  {
   "cell_type": "code",
   "execution_count": 433,
   "metadata": {},
   "outputs": [
    {
     "data": {
      "text/plain": [
       "Text(0, 0.5, 'Metpos length in note durations')"
      ]
     },
     "execution_count": 433,
     "metadata": {},
     "output_type": "execute_result"
    },
    {
     "data": {
      "image/png": "[encoded data removed]",
      "text/plain": [
       "<Figure size 1440x1080 with 1 Axes>"
      ]
     },
     "metadata": {
      "needs_background": "light"
     },
     "output_type": "display_data"
    }
   ],
   "source": [
    "plt.figure(figsize = (20, 15))\n",
    "plt.boxplot(sld_metpos)\n",
    "plt.title('Metpos lengths per song')\n",
    "plt.ylabel('Metpos length in note durations')"
   ]
  },
  {
   "cell_type": "code",
   "execution_count": 436,
   "metadata": {},
   "outputs": [
    {
     "data": {
      "text/plain": [
       "[[1.0,\n",
       "  1.0,\n",
       "  1.0,\n",
       "  1.0625,\n",
       "  0.9375,\n",
       "  0.8125,\n",
       "  1.0,\n",
       "  1.0,\n",
       "  1.0,\n",
       "  1.0,\n",
       "  1.0625,\n",
       "  0.9375,\n",
       "  1.0,\n",
       "  1.0,\n",
       "  1.0,\n",
       "  1.0625,\n",
       "  0.9375,\n",
       "  0.125,\n",
       "  1.0,\n",
       "  1.0,\n",
       "  1.0,\n",
       "  1.0,\n",
       "  1.0,\n",
       "  1.0,\n",
       "  0.625,\n",
       "  1.0,\n",
       "  1.0,\n",
       "  1.0,\n",
       "  1.0,\n",
       "  1.0,\n",
       "  1.0,\n",
       "  1.0,\n",
       "  1.0,\n",
       "  0.4375,\n",
       "  0.8125,\n",
       "  1.0,\n",
       "  1.0,\n",
       "  0.8125,\n",
       "  0.8125,\n",
       "  1.0,\n",
       "  1.0,\n",
       "  1.0,\n",
       "  1.0,\n",
       "  1.0,\n",
       "  1.0,\n",
       "  0.625,\n",
       "  1.0,\n",
       "  1.0,\n",
       "  1.0,\n",
       "  1.0,\n",
       "  1.0],\n",
       " [1.0,\n",
       "  1.0,\n",
       "  1.0,\n",
       "  1.0,\n",
       "  1.0,\n",
       "  1.0,\n",
       "  1.0,\n",
       "  1.0,\n",
       "  1.0,\n",
       "  0.8125,\n",
       "  0.8125,\n",
       "  1.0,\n",
       "  1.0,\n",
       "  1.0,\n",
       "  1.0,\n",
       "  1.0,\n",
       "  1.0,\n",
       "  1.0,\n",
       "  1.0,\n",
       "  1.0,\n",
       "  1.0,\n",
       "  1.0,\n",
       "  1.0,\n",
       "  1.0625,\n",
       "  0.9375,\n",
       "  1.0,\n",
       "  1.0625,\n",
       "  0.75,\n",
       "  0.8125,\n",
       "  1.0,\n",
       "  1.0,\n",
       "  1.0,\n",
       "  1.0,\n",
       "  1.0,\n",
       "  1.0,\n",
       "  1.0,\n",
       "  1.0,\n",
       "  1.0,\n",
       "  1.0,\n",
       "  1.0,\n",
       "  1.0,\n",
       "  1.0,\n",
       "  1.0,\n",
       "  1.0,\n",
       "  1.0,\n",
       "  1.0,\n",
       "  1.0,\n",
       "  1.0625,\n",
       "  0.9375,\n",
       "  1.0625,\n",
       "  0.9375],\n",
       " [0.125,\n",
       "  1.0,\n",
       "  1.0,\n",
       "  1.0,\n",
       "  1.0625,\n",
       "  0.9375,\n",
       "  0.8125,\n",
       "  1.0,\n",
       "  1.0625,\n",
       "  0.9375,\n",
       "  1.0,\n",
       "  1.0,\n",
       "  0.9999999999999999,\n",
       "  0.9999999999999999,\n",
       "  1.0,\n",
       "  1.0625,\n",
       "  0.9375,\n",
       "  0.125,\n",
       "  1.0,\n",
       "  0.8125,\n",
       "  0.8125,\n",
       "  0.8125,\n",
       "  1.0,\n",
       "  1.0,\n",
       "  1.0,\n",
       "  1.0,\n",
       "  1.0,\n",
       "  1.0,\n",
       "  1.0,\n",
       "  1.0,\n",
       "  1.0,\n",
       "  0.8125,\n",
       "  1.0,\n",
       "  0.125,\n",
       "  0.125,\n",
       "  1.0,\n",
       "  1.0,\n",
       "  1.0,\n",
       "  0.8125,\n",
       "  1.0,\n",
       "  1.0,\n",
       "  1.0,\n",
       "  1.0,\n",
       "  1.0,\n",
       "  1.0,\n",
       "  1.0,\n",
       "  1.0,\n",
       "  1.0,\n",
       "  1.0,\n",
       "  1.0,\n",
       "  1.0,\n",
       "  1.0,\n",
       "  1.0,\n",
       "  1.0,\n",
       "  1.0,\n",
       "  1.0,\n",
       "  1.0],\n",
       " [0.25,\n",
       "  1.0,\n",
       "  1.0,\n",
       "  1.0,\n",
       "  1.0,\n",
       "  1.0,\n",
       "  1.0,\n",
       "  1.0,\n",
       "  1.0,\n",
       "  1.0,\n",
       "  1.0,\n",
       "  1.0,\n",
       "  1.0,\n",
       "  1.0,\n",
       "  1.0,\n",
       "  1.0,\n",
       "  1.0,\n",
       "  0.25,\n",
       "  1.0,\n",
       "  1.0,\n",
       "  1.0,\n",
       "  1.0,\n",
       "  1.0,\n",
       "  1.0,\n",
       "  1.0,\n",
       "  1.0,\n",
       "  1.0,\n",
       "  1.0,\n",
       "  1.0,\n",
       "  0.8125,\n",
       "  1.0,\n",
       "  1.0,\n",
       "  1.0,\n",
       "  1.0,\n",
       "  1.0,\n",
       "  1.0,\n",
       "  1.0,\n",
       "  1.0,\n",
       "  1.0,\n",
       "  1.0,\n",
       "  1.0,\n",
       "  1.0,\n",
       "  1.0,\n",
       "  1.0,\n",
       "  1.0,\n",
       "  1.0,\n",
       "  1.0,\n",
       "  1.0,\n",
       "  1.0,\n",
       "  1.0],\n",
       " [1.0625,\n",
       "  1.0,\n",
       "  1.0,\n",
       "  0.75,\n",
       "  0.90625,\n",
       "  0.90625,\n",
       "  1.0,\n",
       "  0.8125,\n",
       "  0.71875,\n",
       "  0.625,\n",
       "  0.71875,\n",
       "  0.71875,\n",
       "  0.25,\n",
       "  1.0,\n",
       "  1.0,\n",
       "  1.0,\n",
       "  0.90625,\n",
       "  0.8125,\n",
       "  0.90625,\n",
       "  0.53125,\n",
       "  0.71875,\n",
       "  0.625,\n",
       "  0.625,\n",
       "  0.53125,\n",
       "  0.8125,\n",
       "  0.8125,\n",
       "  0.8125,\n",
       "  1.0,\n",
       "  0.8125],\n",
       " [0.125,\n",
       "  1.0,\n",
       "  1.0,\n",
       "  0.4375,\n",
       "  0.25,\n",
       "  1.0,\n",
       "  0.8125,\n",
       "  1.0,\n",
       "  0.5,\n",
       "  0.9375,\n",
       "  1.0,\n",
       "  1.0,\n",
       "  1.0,\n",
       "  1.0,\n",
       "  1.0625,\n",
       "  0.5625,\n",
       "  0.625,\n",
       "  0.625,\n",
       "  0.71875,\n",
       "  1.0,\n",
       "  1.0,\n",
       "  1.0,\n",
       "  1.0,\n",
       "  1.0,\n",
       "  1.0,\n",
       "  1.0,\n",
       "  1.0,\n",
       "  1.0,\n",
       "  0.625,\n",
       "  1.0,\n",
       "  1.0,\n",
       "  1.0625,\n",
       "  0.9375,\n",
       "  0,\n",
       "  0.75,\n",
       "  0.8125,\n",
       "  1.0,\n",
       "  1.0,\n",
       "  1.0625,\n",
       "  0.5625,\n",
       "  1.0625,\n",
       "  0.9375],\n",
       " [0.125,\n",
       "  0.6875,\n",
       "  0.84375,\n",
       "  1.0,\n",
       "  1.0,\n",
       "  1.0,\n",
       "  1.0,\n",
       "  0.53125,\n",
       "  0.25,\n",
       "  0.53125,\n",
       "  0.625,\n",
       "  0.8125,\n",
       "  0.8125,\n",
       "  1.0,\n",
       "  0.625,\n",
       "  0.90625,\n",
       "  0.34375,\n",
       "  0.65625,\n",
       "  0.6875,\n",
       "  0.875,\n",
       "  1.0,\n",
       "  1.0,\n",
       "  0.90625,\n",
       "  1.0,\n",
       "  0.90625,\n",
       "  1.0,\n",
       "  0.4375,\n",
       "  0.71875,\n",
       "  1.0,\n",
       "  1.0,\n",
       "  1.0,\n",
       "  1.0,\n",
       "  1.0,\n",
       "  0.125,\n",
       "  0.90625,\n",
       "  1.0,\n",
       "  0.90625,\n",
       "  0.71875,\n",
       "  1.0,\n",
       "  1.0,\n",
       "  1.0,\n",
       "  1.0,\n",
       "  0.90625,\n",
       "  1.0],\n",
       " [0.875,\n",
       "  0.8125,\n",
       "  0.9375,\n",
       "  1.0,\n",
       "  0.625,\n",
       "  0.34375,\n",
       "  0.71875,\n",
       "  0.53125,\n",
       "  1.0,\n",
       "  1.0,\n",
       "  1.0,\n",
       "  1.0,\n",
       "  0.8125,\n",
       "  1.0,\n",
       "  1.0,\n",
       "  1.0,\n",
       "  0.90625,\n",
       "  1.0,\n",
       "  1.0,\n",
       "  0.71875,\n",
       "  0.71875,\n",
       "  0.53125,\n",
       "  0.4375,\n",
       "  0.71875,\n",
       "  0.71875,\n",
       "  0.8125,\n",
       "  1.0,\n",
       "  1.0,\n",
       "  1.0,\n",
       "  0.125,\n",
       "  0.8125,\n",
       "  1.0,\n",
       "  1.0,\n",
       "  1.0,\n",
       "  1.0,\n",
       "  1.0,\n",
       "  1.0,\n",
       "  1.0,\n",
       "  1.0,\n",
       "  1.0,\n",
       "  1.0,\n",
       "  1.0,\n",
       "  1.0,\n",
       "  1.0,\n",
       "  0.8125,\n",
       "  1.0,\n",
       "  1.0,\n",
       "  1.0,\n",
       "  1.0,\n",
       "  1.0,\n",
       "  1.0,\n",
       "  1.0,\n",
       "  1.0,\n",
       "  1.0,\n",
       "  1.0,\n",
       "  1.0,\n",
       "  1.0,\n",
       "  1.0,\n",
       "  1.0,\n",
       "  1.0,\n",
       "  0.625,\n",
       "  1.0,\n",
       "  1.0,\n",
       "  0.125],\n",
       " [0.0625,\n",
       "  1.0,\n",
       "  1.0,\n",
       "  1.0625,\n",
       "  1.0,\n",
       "  0.9375,\n",
       "  1.0625,\n",
       "  0.9375,\n",
       "  1.0,\n",
       "  1.0,\n",
       "  1.0,\n",
       "  1.0,\n",
       "  1.0,\n",
       "  1.0,\n",
       "  1.0,\n",
       "  1.0,\n",
       "  1.0,\n",
       "  0.8125,\n",
       "  1.0,\n",
       "  1.0,\n",
       "  1.0,\n",
       "  1.0,\n",
       "  1.0,\n",
       "  1.0,\n",
       "  1.0,\n",
       "  1.0,\n",
       "  0.8125,\n",
       "  0.8125,\n",
       "  1.1875,\n",
       "  0.8125,\n",
       "  0.8125,\n",
       "  0.8125,\n",
       "  1.0,\n",
       "  0.25,\n",
       "  1.0,\n",
       "  1.0,\n",
       "  1.0,\n",
       "  0.8125,\n",
       "  1.0,\n",
       "  1.0,\n",
       "  1.0,\n",
       "  0.8125,\n",
       "  0.8125,\n",
       "  0.875,\n",
       "  0.9375,\n",
       "  0.8125],\n",
       " [0.25,\n",
       "  1.0,\n",
       "  1.0,\n",
       "  1.0625,\n",
       "  0.9375,\n",
       "  1.0625,\n",
       "  1.0,\n",
       "  0.9375,\n",
       "  0.625,\n",
       "  1.0625,\n",
       "  0.9375,\n",
       "  0.875,\n",
       "  0.9375,\n",
       "  0.875,\n",
       "  0.9375,\n",
       "  1.0,\n",
       "  1.0,\n",
       "  0.25,\n",
       "  0.25,\n",
       "  1.0625,\n",
       "  0.9375,\n",
       "  1.0,\n",
       "  1.0,\n",
       "  1.0625,\n",
       "  1.0,\n",
       "  0.75,\n",
       "  0.625,\n",
       "  1.0,\n",
       "  1.0,\n",
       "  1.0,\n",
       "  1.0,\n",
       "  1.0,\n",
       "  0.625,\n",
       "  0.9375,\n",
       "  1.0,\n",
       "  0.3125,\n",
       "  1.0,\n",
       "  0.9375,\n",
       "  0.8125,\n",
       "  1.0,\n",
       "  1.0,\n",
       "  1.0,\n",
       "  1.0625,\n",
       "  0.75,\n",
       "  1.0,\n",
       "  0.3125,\n",
       "  0],\n",
       " [1.0,\n",
       "  1.0,\n",
       "  1.0,\n",
       "  1.0,\n",
       "  1.0,\n",
       "  1.0,\n",
       "  1.0,\n",
       "  1.0,\n",
       "  1.0,\n",
       "  1.0,\n",
       "  1.0,\n",
       "  0.8125,\n",
       "  1.0,\n",
       "  1.0,\n",
       "  1.0,\n",
       "  1.0,\n",
       "  1.0,\n",
       "  1.0,\n",
       "  1.0,\n",
       "  0.8125,\n",
       "  1.0,\n",
       "  1.0,\n",
       "  1.0,\n",
       "  1.0,\n",
       "  1.0,\n",
       "  1.0,\n",
       "  1.0,\n",
       "  1.0,\n",
       "  1.0,\n",
       "  1.0,\n",
       "  1.0,\n",
       "  0.9375,\n",
       "  0.8125,\n",
       "  0.8125,\n",
       "  1.0,\n",
       "  0.875],\n",
       " [0.125,\n",
       "  0.75,\n",
       "  1.0,\n",
       "  1.0,\n",
       "  1.0,\n",
       "  1.0,\n",
       "  1.0,\n",
       "  1.0,\n",
       "  1.0,\n",
       "  1.0,\n",
       "  1.0,\n",
       "  1.0,\n",
       "  1.0,\n",
       "  0.4375,\n",
       "  0.53125,\n",
       "  0.625,\n",
       "  0.625,\n",
       "  1.0,\n",
       "  0.71875,\n",
       "  0.625,\n",
       "  0.71875,\n",
       "  0.4375,\n",
       "  0.78125,\n",
       "  0.1875,\n",
       "  0.625,\n",
       "  0.25,\n",
       "  1.0,\n",
       "  0.625,\n",
       "  1.0,\n",
       "  0.625,\n",
       "  1.0,\n",
       "  0.625,\n",
       "  1.0,\n",
       "  1.0,\n",
       "  1.0,\n",
       "  1.0,\n",
       "  0.8125,\n",
       "  0.25,\n",
       "  0.25,\n",
       "  0.4375,\n",
       "  0.25,\n",
       "  0.25,\n",
       "  0.25,\n",
       "  0.25,\n",
       "  0.25,\n",
       "  0.25,\n",
       "  0.25,\n",
       "  0.25,\n",
       "  0.25,\n",
       "  0.25,\n",
       "  0.4375,\n",
       "  0.4375,\n",
       "  0.25,\n",
       "  0.25,\n",
       "  0.25,\n",
       "  0.4375,\n",
       "  0.625,\n",
       "  0.25,\n",
       "  0.53125,\n",
       "  0.4375,\n",
       "  0.34375,\n",
       "  0.4375,\n",
       "  0.4375,\n",
       "  0.625,\n",
       "  0.625,\n",
       "  0.71875,\n",
       "  0.90625,\n",
       "  0.8125],\n",
       " [0.25,\n",
       "  0.8125,\n",
       "  0.8125,\n",
       "  1.0,\n",
       "  0.8125,\n",
       "  0.8125,\n",
       "  0.8125,\n",
       "  0.8125,\n",
       "  1.0,\n",
       "  0.8125,\n",
       "  1.0,\n",
       "  1.0,\n",
       "  1.0,\n",
       "  1.0,\n",
       "  1.0,\n",
       "  1.0,\n",
       "  0.8125,\n",
       "  0.9375,\n",
       "  0.9375,\n",
       "  1.0,\n",
       "  1.0,\n",
       "  0.9375,\n",
       "  1.0,\n",
       "  1.0,\n",
       "  0.9375,\n",
       "  0.8125,\n",
       "  0.875,\n",
       "  0.8125,\n",
       "  0.8125,\n",
       "  0.8125,\n",
       "  0.8125,\n",
       "  0.625,\n",
       "  1.0,\n",
       "  1.0,\n",
       "  1.0,\n",
       "  1.0,\n",
       "  1.0],\n",
       " [1.0,\n",
       "  0.8125,\n",
       "  0.8125,\n",
       "  1.0625,\n",
       "  0.9375,\n",
       "  1.0,\n",
       "  0.8125,\n",
       "  1.0,\n",
       "  1.0,\n",
       "  1.0,\n",
       "  1.0,\n",
       "  0.8125,\n",
       "  1.0,\n",
       "  1.0,\n",
       "  0.8125,\n",
       "  0.1875,\n",
       "  0.9375,\n",
       "  1.0,\n",
       "  0.25,\n",
       "  1.0,\n",
       "  1.0,\n",
       "  1.0,\n",
       "  1.0,\n",
       "  1.0,\n",
       "  0.8125,\n",
       "  1.0,\n",
       "  0.8125,\n",
       "  0.9375,\n",
       "  0.6875,\n",
       "  0.8125,\n",
       "  0.8125,\n",
       "  1.0,\n",
       "  1.0625,\n",
       "  0.9375,\n",
       "  1.0,\n",
       "  1.0,\n",
       "  1.0,\n",
       "  1.0,\n",
       "  1.0,\n",
       "  0.8125,\n",
       "  1.0,\n",
       "  1.0,\n",
       "  1.0625,\n",
       "  0.9375,\n",
       "  0.8125,\n",
       "  1.0,\n",
       "  0.8125,\n",
       "  0.8125,\n",
       "  1.0,\n",
       "  1.0,\n",
       "  1.0,\n",
       "  1.0,\n",
       "  1.0,\n",
       "  1.0,\n",
       "  1.0],\n",
       " [0.8125,\n",
       "  0.8125,\n",
       "  0.8125,\n",
       "  0.625,\n",
       "  0.625,\n",
       "  1.0,\n",
       "  0.8125,\n",
       "  0.625,\n",
       "  0.8125,\n",
       "  0.25,\n",
       "  0.625,\n",
       "  0.8125,\n",
       "  1.0,\n",
       "  0.8125,\n",
       "  0.625,\n",
       "  0.8125,\n",
       "  0.8125,\n",
       "  1.0,\n",
       "  1.0,\n",
       "  1.0,\n",
       "  0.8125,\n",
       "  1.0,\n",
       "  1.0,\n",
       "  1.0,\n",
       "  1.0,\n",
       "  1.0,\n",
       "  0.8125,\n",
       "  1.0,\n",
       "  0.8125,\n",
       "  0.625,\n",
       "  0.8125,\n",
       "  0.8125,\n",
       "  0.8125,\n",
       "  1.0,\n",
       "  0.8125,\n",
       "  0.8125,\n",
       "  1.0,\n",
       "  1.0625,\n",
       "  0.75,\n",
       "  0.8125,\n",
       "  1.0,\n",
       "  1.0,\n",
       "  0.8125,\n",
       "  1.0,\n",
       "  1.0,\n",
       "  1.0,\n",
       "  0.8125,\n",
       "  1.0,\n",
       "  0.625,\n",
       "  0.8125,\n",
       "  0.625,\n",
       "  1.0,\n",
       "  1.0,\n",
       "  1.0,\n",
       "  0.8125,\n",
       "  0.8125],\n",
       " [0.8125,\n",
       "  1.0,\n",
       "  1.0,\n",
       "  1.0,\n",
       "  1.0,\n",
       "  1.0,\n",
       "  0.8125,\n",
       "  1.0,\n",
       "  0.9999999999999997,\n",
       "  1.0,\n",
       "  1.0,\n",
       "  0.875,\n",
       "  0.9375,\n",
       "  0.8125,\n",
       "  0.8125,\n",
       "  0.75,\n",
       "  0.875,\n",
       "  0.8125,\n",
       "  1.0,\n",
       "  1.0,\n",
       "  1.0,\n",
       "  1.0,\n",
       "  1.0,\n",
       "  1.0,\n",
       "  1.0,\n",
       "  1.0,\n",
       "  1.0625,\n",
       "  0.9375,\n",
       "  0.8125,\n",
       "  0.625,\n",
       "  1.0,\n",
       "  1.0,\n",
       "  1.0,\n",
       "  1.0,\n",
       "  0.8125,\n",
       "  0.8125,\n",
       "  0.8125,\n",
       "  1.0],\n",
       " [0.8125,\n",
       "  1.0,\n",
       "  0.8125,\n",
       "  1.0,\n",
       "  1.0,\n",
       "  1.0,\n",
       "  1.0,\n",
       "  0.8125,\n",
       "  0.0625,\n",
       "  1.0,\n",
       "  0.8125,\n",
       "  1.0,\n",
       "  0.8125,\n",
       "  1.0,\n",
       "  0.8125,\n",
       "  1.0,\n",
       "  0.8125,\n",
       "  1.0,\n",
       "  0.8125,\n",
       "  0.8125,\n",
       "  0.8125,\n",
       "  0.8125,\n",
       "  0.8125,\n",
       "  0.8125,\n",
       "  0.8125,\n",
       "  1.0,\n",
       "  1.0,\n",
       "  1.0,\n",
       "  1.0,\n",
       "  1.0,\n",
       "  1.0,\n",
       "  0.625,\n",
       "  1.0,\n",
       "  0.125,\n",
       "  1.0,\n",
       "  1.0,\n",
       "  1.0,\n",
       "  1.0,\n",
       "  1.0,\n",
       "  0.625,\n",
       "  0.8125,\n",
       "  1.0],\n",
       " [0.25,\n",
       "  0.8125,\n",
       "  1.0,\n",
       "  1.0,\n",
       "  1.0,\n",
       "  1.0,\n",
       "  1.0,\n",
       "  1.0,\n",
       "  1.0,\n",
       "  1.0,\n",
       "  1.0,\n",
       "  1.0,\n",
       "  1.0,\n",
       "  1.0,\n",
       "  0.8125,\n",
       "  0.8125,\n",
       "  1.0,\n",
       "  1.0,\n",
       "  1.0,\n",
       "  1.0,\n",
       "  1.0,\n",
       "  1.0,\n",
       "  1.0,\n",
       "  1.0,\n",
       "  1.0,\n",
       "  1.0,\n",
       "  1.0,\n",
       "  1.0,\n",
       "  1.0,\n",
       "  1.0,\n",
       "  1.0,\n",
       "  1.0,\n",
       "  1.0,\n",
       "  1.0,\n",
       "  0.8125,\n",
       "  1.0,\n",
       "  1.0,\n",
       "  1.0,\n",
       "  1.0,\n",
       "  1.0,\n",
       "  1.0,\n",
       "  1.0,\n",
       "  1.0,\n",
       "  1.0,\n",
       "  1.0,\n",
       "  1.0,\n",
       "  1.0,\n",
       "  1.0,\n",
       "  1.0,\n",
       "  1.0,\n",
       "  1.0,\n",
       "  1.0,\n",
       "  0.8125,\n",
       "  0.8125,\n",
       "  0.8125,\n",
       "  0.8125,\n",
       "  0.8125,\n",
       "  1.0,\n",
       "  0.9375,\n",
       "  0.9375,\n",
       "  0.9375,\n",
       "  0.9375,\n",
       "  0.9375,\n",
       "  0.9375,\n",
       "  1.0,\n",
       "  1.0,\n",
       "  1.0,\n",
       "  1.0,\n",
       "  1.0,\n",
       "  1.0,\n",
       "  1.0,\n",
       "  1.0,\n",
       "  0.8125,\n",
       "  1.0,\n",
       "  1.0,\n",
       "  1.0,\n",
       "  0.8125],\n",
       " [0.8125,\n",
       "  1.0,\n",
       "  0.8125,\n",
       "  0.8125,\n",
       "  0.125,\n",
       "  0.625,\n",
       "  0.8125,\n",
       "  0.8125,\n",
       "  0.8125,\n",
       "  1.0,\n",
       "  0.625,\n",
       "  1.0,\n",
       "  0.625,\n",
       "  0.8125,\n",
       "  0.625,\n",
       "  0.8125,\n",
       "  0.8125,\n",
       "  0.625,\n",
       "  0.625,\n",
       "  1.0,\n",
       "  0.625,\n",
       "  0.8125,\n",
       "  0.8125,\n",
       "  1.0,\n",
       "  1.0,\n",
       "  0.8125,\n",
       "  0.8125,\n",
       "  0.8125,\n",
       "  0.8125,\n",
       "  0.125,\n",
       "  1.0,\n",
       "  0.625,\n",
       "  0.8125,\n",
       "  0.8125,\n",
       "  1.0,\n",
       "  0.8125,\n",
       "  1.0,\n",
       "  0.625,\n",
       "  0.25,\n",
       "  1.0,\n",
       "  0.8125,\n",
       "  0.625,\n",
       "  0.8125,\n",
       "  1.0,\n",
       "  0.8125,\n",
       "  1.0,\n",
       "  0.625,\n",
       "  1.0,\n",
       "  0.8125,\n",
       "  1.0,\n",
       "  0.625,\n",
       "  1.0,\n",
       "  0.8125,\n",
       "  1.0,\n",
       "  0.8125,\n",
       "  0.8125,\n",
       "  0.8125,\n",
       "  1.0,\n",
       "  0.625]]"
      ]
     },
     "execution_count": 436,
     "metadata": {},
     "output_type": "execute_result"
    }
   ],
   "source": [
    "sld_metpos"
   ]
  },
  {
   "cell_type": "code",
   "execution_count": 19,
   "metadata": {},
   "outputs": [],
   "source": [
    "# See how small and big measures look like, how many of them are there per song\n",
    "def measure_length_metric(segment_lengths_dur):\n",
    "    \"\"\"\n",
    "    Returns proportion of measures not overflowing a whole note duration\n",
    "    Input: segment_lengths_dur vector of measure lengths in terms of note durations\n",
    "    Returns: a matrix containing proportion of measures not overflowing a whole note duration for each song\n",
    "    \"\"\"\n",
    "    proportion = np.array([])\n",
    "    for songNum, song in enumerate(segment_lengths_dur):\n",
    "        proportion = np.append(proportion, np.sum(np.array(song) == 1.)/len(song))\n",
    "    return proportion\n",
    "    "
   ]
  },
  {
   "cell_type": "code",
   "execution_count": 435,
   "metadata": {},
   "outputs": [
    {
     "data": {
      "text/plain": [
       "Text(0, 0.5, 'Proportion of measures not overflowing a whole note duration')"
      ]
     },
     "execution_count": 435,
     "metadata": {},
     "output_type": "execute_result"
    },
    {
     "data": {
      "image/png": "[encoded data removed]",
      "text/plain": [
       "<Figure size 1080x504 with 1 Axes>"
      ]
     },
     "metadata": {
      "needs_background": "light"
     },
     "output_type": "display_data"
    }
   ],
   "source": [
    "length_metric_measures = measure_length_metric(sld_measures)\n",
    "length_metric_phrases = measure_length_metric(sld_phrases)\n",
    "length_metric_custom = measure_length_metric(sld_custom)\n",
    "length_metric_metpos = measure_length_metric(sld_metpos)\n",
    "\n",
    "plt.figure(figsize = (15, 7))\n",
    "plt.plot(length_metric_metpos)\n",
    "plt.title('Proportion of measures not overflowing a whole note duration by song')\n",
    "plt.ylabel('Proportion of measures not overflowing a whole note duration')"
   ]
  },
  {
   "cell_type": "code",
   "execution_count": 311,
   "metadata": {},
   "outputs": [
    {
     "data": {
      "text/plain": [
       "['2', '.', '.', '.']"
      ]
     },
     "execution_count": 311,
     "metadata": {},
     "output_type": "execute_result"
    }
   ],
   "source": [
    "recips_custom_dataset[0][0]"
   ]
  },
  {
   "cell_type": "code",
   "execution_count": 312,
   "metadata": {},
   "outputs": [
    {
     "name": "stdout",
     "output_type": "stream",
     "text": [
      "min: 0.0, min_songNum: 0, max: 1.0, max_songNum: 7\n"
     ]
    }
   ],
   "source": [
    "min_prop = np.min(length_metric_custom)\n",
    "min_songNum = np.argmin(length_metric_custom)\n",
    "max_prop = np.max(length_metric_custom)\n",
    "max_songNum = np.argmax(length_metric_custom)\n",
    "\n",
    "print (f'min: {min_prop}, min_songNum: {min_songNum}, max: {max_prop}, max_songNum: {max_songNum}')"
   ]
  },
  {
   "cell_type": "markdown",
   "metadata": {},
   "source": [
    "## Perceptual patterns"
   ]
  },
  {
   "cell_type": "code",
   "execution_count": 60,
   "metadata": {},
   "outputs": [],
   "source": [
    "# Functionality to reduce dimensionality of 96 length vector\n",
    "\n",
    "def extract_subvector(vector, target_size):\n",
    "    vectorSize = len(vector)\n",
    "    conversion = int(vectorSize//target_size)\n",
    "    subvector = [None] * target_size\n",
    "    for i in range(target_size):\n",
    "        subvector[i] = vector[i*conversion]\n",
    "    return subvector\n",
    "\n",
    "def extract_subvectors(vectors, target_size):\n",
    "    subvectors = []\n",
    "    for vector in vectors:\n",
    "        # print (vector)\n",
    "        subvectors.append(extract_subvector(vector, target_size))\n",
    "    return subvectors\n",
    "\n",
    "def extract_subvectors_dataset(stresses_dataset, target_size):\n",
    "    subvectors_dataset = []\n",
    "    for stresses_song in stresses_dataset:\n",
    "        subvectors_dataset.append(extract_subvectors(stresses_song, target_size))\n",
    "    return subvectors_dataset"
   ]
  },
  {
   "cell_type": "code",
   "execution_count": 61,
   "metadata": {},
   "outputs": [],
   "source": [
    "subvectors_dataset = extract_subvectors_dataset(stresses_metpos_dataset, 16)\n",
    "# subvectors_dataset"
   ]
  },
  {
   "cell_type": "code",
   "execution_count": 62,
   "metadata": {},
   "outputs": [],
   "source": [
    "def stress_frame(frame):\n",
    "    zs = np.zeros(len(frame))\n",
    "    os = np.zeros(len(frame))\n",
    "    rs = np.zeros(len(frame))\n",
    "    for j, k in enumerate(frame):\n",
    "        if k == '.':\n",
    "            rs[j] = 1\n",
    "        if k == '0':\n",
    "            zs[j] = 1\n",
    "        if k == '1':\n",
    "            os[j] = 1\n",
    "    return list(zs), list(os), list(rs)\n",
    "\n",
    "def get_stresses(subvectors):\n",
    "    len_subvectors = len(subvectors)\n",
    "    zeros = []\n",
    "    ones = []\n",
    "    rests = []\n",
    "\n",
    "    for i, subvector in enumerate(subvectors):\n",
    "        zero, one, rest = stress_frame(subvector)\n",
    "        # print (rest)\n",
    "        zeros.append(zero)\n",
    "        ones.append(one)\n",
    "        rests.append(rest)\n",
    "    return zeros, ones, rests\n",
    "\n",
    "def get_stresses_all(songs_subvectors):\n",
    "    zeros_dataset = []\n",
    "    ones_dataset = []\n",
    "    rests_dataset = []\n",
    "    for song_subvectors in songs_subvectors:\n",
    "        zeros, ones, rests = get_stresses(song_subvectors)\n",
    "        zeros_dataset.append(zeros)\n",
    "        ones_dataset.append(ones)\n",
    "        rests_dataset.append(rests)\n",
    "    return zeros_dataset, ones_dataset, rests_dataset\n"
   ]
  },
  {
   "cell_type": "code",
   "execution_count": 63,
   "metadata": {},
   "outputs": [],
   "source": [
    "unstresses_dataset_trunc, stresses_dataset_trunc, rests_dataset_trunc = get_stresses_all(subvectors_dataset)\n",
    "\n",
    "def find_repeat_stressed(dataset_matrix_trunc):\n",
    "    repeatProp = []\n",
    "    for i, stresses_song_trunc in enumerate(dataset_matrix_trunc):\n",
    "        # Find unique values in all songs\n",
    "        unique = get_unique_values(stresses_song_trunc)\n",
    "        prop = len(stresses_song_trunc)/len(unique)\n",
    "        repeatProp.append(prop)\n",
    "    return repeatProp"
   ]
  },
  {
   "cell_type": "code",
   "execution_count": 64,
   "metadata": {},
   "outputs": [],
   "source": [
    "repeatProp = find_repeat_stressed(stresses_dataset_trunc)"
   ]
  },
  {
   "cell_type": "code",
   "execution_count": 65,
   "metadata": {},
   "outputs": [
    {
     "data": {
      "text/plain": [
       "[<matplotlib.lines.Line2D at 0x1216b7390>]"
      ]
     },
     "execution_count": 65,
     "metadata": {},
     "output_type": "execute_result"
    },
    {
     "data": {
      "image/png": "[encoded data removed]",
      "text/plain": [
       "<Figure size 432x288 with 1 Axes>"
      ]
     },
     "metadata": {
      "needs_background": "light"
     },
     "output_type": "display_data"
    }
   ],
   "source": [
    "plt.plot(repeatProp)"
   ]
  },
  {
   "cell_type": "code",
   "execution_count": 66,
   "metadata": {},
   "outputs": [],
   "source": [
    "# Extract year from each song txt file. Year is encoded as BPD in the xml file in column [0]\n",
    "def extract_year(song):\n",
    "    for line in song:\n",
    "        if len(line) == 1 and line[0][:6] == '!!!BPD':\n",
    "            return line[0][7:11]\n",
    "\n",
    "def extract_years(songs):\n",
    "    years = []\n",
    "    for song in songs:\n",
    "        year = extract_year(song)\n",
    "        years.append(year)\n",
    "    return years"
   ]
  },
  {
   "cell_type": "code",
   "execution_count": 67,
   "metadata": {},
   "outputs": [],
   "source": [
    "def clean_dataset_by_year(dataset_matrix, years):\n",
    "    years_avail = [int(years[i]) for i in range(len(years)) if years[i] != \"NA\"]\n",
    "    dataset_matrix_clean = [dataset_matrix[i] for i, yr in enumerate(years_avail)]\n",
    "    return dataset_matrix_clean, years_avail"
   ]
  },
  {
   "cell_type": "code",
   "execution_count": 68,
   "metadata": {},
   "outputs": [
    {
     "name": "stdout",
     "output_type": "stream",
     "text": [
      "121\n",
      "117\n"
     ]
    }
   ],
   "source": [
    "y = extract_years(songs)\n",
    "stresses_metpos_dataset_clean, years_clean = clean_dataset_by_year(stresses_metpos_dataset, y)\n",
    "print (len(stresses_metpos_dataset))\n",
    "print (len(stresses_metpos_dataset_clean))"
   ]
  },
  {
   "cell_type": "code",
   "execution_count": 69,
   "metadata": {},
   "outputs": [
    {
     "data": {
      "text/plain": [
       "Text(0, 0.5, 'Repetition proportion')"
      ]
     },
     "execution_count": 69,
     "metadata": {},
     "output_type": "execute_result"
    },
    {
     "data": {
      "image/png": "[encoded data removed]",
      "text/plain": [
       "<Figure size 1152x432 with 1 Axes>"
      ]
     },
     "metadata": {
      "needs_background": "light"
     },
     "output_type": "display_data"
    }
   ],
   "source": [
    "subvectors_dataset_clean = extract_subvectors_dataset(stresses_metpos_dataset_clean, 16)\n",
    "unstresses_dataset_trunc, stresses_dataset_trunc, rests_dataset_trunc = get_stresses_all(subvectors_dataset_clean)\n",
    "repeatProp_clean = find_repeat_stressed(stresses_dataset_trunc)\n",
    "plt.figure(figsize = (16, 6))\n",
    "plt.scatter(years_clean, repeatProp_clean)\n",
    "plt.title('Repetition proportion metric for exact stressed matches by years')\n",
    "plt.xlabel('Years')\n",
    "plt.ylabel('Repetition proportion')"
   ]
  },
  {
   "cell_type": "code",
   "execution_count": 70,
   "metadata": {},
   "outputs": [
    {
     "data": {
      "text/plain": [
       "array(['1980', '1981', '1982', '1985', '1986', '1987', '1988', '1989',\n",
       "       '1990', '1991', '1992', '1993', '1994', '1995', '1996', '1997',\n",
       "       '1998', '1999', '2000', '2001', '2002', '2003', '2004', '2005',\n",
       "       '2006', '2007', '2008', '2009', '2010', '2011', '2012', '2013',\n",
       "       '2014', 'NA'], dtype='<U4')"
      ]
     },
     "execution_count": 70,
     "metadata": {},
     "output_type": "execute_result"
    }
   ],
   "source": [
    "np.unique(y)"
   ]
  },
  {
   "cell_type": "code",
   "execution_count": 71,
   "metadata": {},
   "outputs": [],
   "source": [
    "def find_correlation_song(song):\n",
    "    # Find correlation of each stress vector with all other stress vectors in a song\n",
    "    # Return a matrix of correlations\n",
    "    song_corr = np.corrcoef(song)\n",
    "    return song_corr"
   ]
  },
  {
   "cell_type": "code",
   "execution_count": 72,
   "metadata": {},
   "outputs": [
    {
     "data": {
      "text/plain": [
       "array([[ 1.        ,  0.16012815,  0.16012815, ..., -0.32387514,\n",
       "         0.22191676,  0.22191676],\n",
       "       [ 0.16012815,  1.        ,  1.        , ...,  0.40451992,\n",
       "         0.62994079,  0.62994079],\n",
       "       [ 0.16012815,  1.        ,  1.        , ...,  0.40451992,\n",
       "         0.62994079,  0.62994079],\n",
       "       ...,\n",
       "       [-0.32387514,  0.40451992,  0.40451992, ...,  1.        ,\n",
       "         0.76447079, -0.05096472],\n",
       "       [ 0.22191676,  0.62994079,  0.62994079, ...,  0.76447079,\n",
       "         1.        ,  0.23809524],\n",
       "       [ 0.22191676,  0.62994079,  0.62994079, ..., -0.05096472,\n",
       "         0.23809524,  1.        ]])"
      ]
     },
     "execution_count": 72,
     "metadata": {},
     "output_type": "execute_result"
    }
   ],
   "source": [
    "corr = find_correlation_song(stresses_dataset_trunc[0])\n",
    "corr"
   ]
  },
  {
   "cell_type": "code",
   "execution_count": 85,
   "metadata": {},
   "outputs": [],
   "source": [
    "def plot_bar(corr):\n",
    "    # Read all correlations into a list\n",
    "    # Plot the list as a bar chart\n",
    "    corr_list = []\n",
    "    for i in range(len(corr)):\n",
    "        for j in range(len(corr)):\n",
    "            corr_list.append(corr[i][j])\n",
    "    # Sort corr in ascending order\n",
    "    corr_list.sort()\n",
    "    plt.figure(figsize = (16, 6))\n",
    "    plt.bar(range(len(corr_list)), corr_list)\n",
    "    plt.title('Correlation of stress vectors in a song')\n",
    "    plt.xlabel('Stress vector index')\n",
    "    plt.ylabel('Correlation')\n",
    "    \n"
   ]
  },
  {
   "cell_type": "code",
   "execution_count": 86,
   "metadata": {},
   "outputs": [
    {
     "data": {
      "image/png": "[encoded data removed]",
      "text/plain": [
       "<Figure size 1152x432 with 1 Axes>"
      ]
     },
     "metadata": {
      "needs_background": "light"
     },
     "output_type": "display_data"
    }
   ],
   "source": [
    "plot_bar(corr)"
   ]
  },
  {
   "cell_type": "code",
   "execution_count": 89,
   "metadata": {},
   "outputs": [
    {
     "data": {
      "image/png": "[encoded data removed]",
      "text/plain": [
       "<Figure size 1152x432 with 1 Axes>"
      ]
     },
     "metadata": {
      "needs_background": "light"
     },
     "output_type": "display_data"
    }
   ],
   "source": [
    "plot_bar(find_correlation_song(stresses_dataset_trunc[3]))"
   ]
  },
  {
   "cell_type": "code",
   "execution_count": 73,
   "metadata": {},
   "outputs": [
    {
     "data": {
      "image/png": "[encoded data removed]",
      "text/plain": [
       "<Figure size 936x936 with 1 Axes>"
      ]
     },
     "metadata": {
      "needs_background": "light"
     },
     "output_type": "display_data"
    }
   ],
   "source": [
    "fig, ax = plt.subplots(figsize = (13, 13))\n",
    "im = ax.imshow(corr)\n",
    "\n",
    "# Show all ticks and label them with the respective list entries\n",
    "ax.set_xticks(np.arange(corr.shape[0]))\n",
    "ax.set_yticks(np.arange(corr.shape[1])) # , labels=range(corr.shape[1])\n",
    "\n",
    "# Rotate the tick labels and set their alignment.\n",
    "plt.setp(ax.get_xticklabels(), rotation=45, ha=\"right\",\n",
    "         rotation_mode=\"anchor\")\n",
    "\n",
    "# Loop over data dimensions and create text annotations.\n",
    "# for i in range(corr.shape[0]):\n",
    "#     for j in range(corr.shape[1]):\n",
    "#         text = ax.text(j, i, corr[i, j],\n",
    "#                        ha=\"center\", va=\"center\", color=\"w\")\n",
    "\n",
    "ax.set_title(\"Correlation between one stress pattern with all other patterns in a song\")\n",
    "fig.tight_layout()\n",
    "# plt.show()\n",
    "# plt.savefig('images/correlation.png')"
   ]
  },
  {
   "cell_type": "code",
   "execution_count": 74,
   "metadata": {},
   "outputs": [],
   "source": [
    "import heapq\n",
    "def get_similarity(corr, thres):\n",
    "    nums = np.array([])\n",
    "    numPatterns = corr.shape[0]\n",
    "    for crr in corr:\n",
    "        num = np.where(crr > thres)[0]\n",
    "        try:\n",
    "            nums = np.append(nums, len(num)/numPatterns)\n",
    "        except:\n",
    "            continue\n",
    "    return nums\n",
    "\n",
    "# Write a function to get n largest elements from an array of numbers\n",
    "def get_n_largest(nums, n):\n",
    "    array = list(heapq.nlargest(n, nums))\n",
    "    # array.remove()\n",
    "    print (array)\n",
    "    return array\n",
    "\n",
    "def get_mean_similarity(corr, thres):\n",
    "    similarity = get_similarity(corr, thres)\n",
    "    # similarity = get_n_largest(similarity, 6)\n",
    "    return np.mean(similarity)\n",
    "\n",
    "def get_mean_similarity_dataset(dataset, thres):\n",
    "    mean_similarity = []\n",
    "    for i, song in enumerate(dataset):\n",
    "        corr = find_correlation_song(song)\n",
    "        mean_similarity.append(get_mean_similarity(corr, thres))\n",
    "    return mean_similarity"
   ]
  },
  {
   "cell_type": "code",
   "execution_count": 81,
   "metadata": {},
   "outputs": [],
   "source": [
    "thres = 0.9\n",
    "similarity_score_dataset = get_mean_similarity_dataset(stresses_dataset_trunc, thres)"
   ]
  },
  {
   "cell_type": "code",
   "execution_count": 80,
   "metadata": {},
   "outputs": [
    {
     "data": {
      "image/png": "[encoded data removed]",
      "text/plain": [
       "<Figure size 1152x432 with 1 Axes>"
      ]
     },
     "metadata": {
      "needs_background": "light"
     },
     "output_type": "display_data"
    }
   ],
   "source": [
    "plt.figure(figsize = (16, 6))\n",
    "plt.scatter(years_clean, similarity_score_dataset)\n",
    "plt.title(f'Repetition correlation metric (thres: {thres}) for stress vectors by years')\n",
    "plt.xlabel('Years')\n",
    "plt.ylabel('Avg correrlation')\n",
    "plt.savefig(f'images/correlation_metric_{thres}.png')"
   ]
  },
  {
   "cell_type": "markdown",
   "metadata": {},
   "source": []
  },
  {
   "cell_type": "code",
   "execution_count": 37,
   "metadata": {},
   "outputs": [],
   "source": [
    "# Write a function to find the average correlation of all songs in any given year in the dataset\n",
    "def get_mean_similarity_year(array, years_clean):\n",
    "    array = np.array(array)\n",
    "    agg_by_year = []\n",
    "    years = np.unique(years_clean)\n",
    "    for year in years:\n",
    "        index = np.where(np.array(years_clean) == year)[0]\n",
    "        agg_by_year.append(np.mean(array[index]))\n",
    "    return agg_by_year, years"
   ]
  },
  {
   "cell_type": "code",
   "execution_count": 38,
   "metadata": {},
   "outputs": [],
   "source": [
    "aggregated, unique_years = get_mean_similarity_year(similarity_score_dataset, years_clean)"
   ]
  },
  {
   "cell_type": "code",
   "execution_count": 39,
   "metadata": {},
   "outputs": [
    {
     "name": "stdout",
     "output_type": "stream",
     "text": [
      "33\n",
      "33\n"
     ]
    }
   ],
   "source": [
    "print (len(aggregated))\n",
    "print (len(unique_years))"
   ]
  },
  {
   "cell_type": "code",
   "execution_count": 40,
   "metadata": {},
   "outputs": [
    {
     "data": {
      "text/plain": [
       "[<matplotlib.lines.Line2D at 0x126721780>]"
      ]
     },
     "execution_count": 40,
     "metadata": {},
     "output_type": "execute_result"
    },
    {
     "data": {
      "image/png": "[encoded data removed]",
      "text/plain": [
       "<Figure size 432x288 with 1 Axes>"
      ]
     },
     "metadata": {
      "needs_background": "light"
     },
     "output_type": "display_data"
    }
   ],
   "source": [
    "plt.plot(unique_years, aggregated)"
   ]
  },
  {
   "cell_type": "markdown",
   "metadata": {},
   "source": [
    "## Statistical analysis: H1"
   ]
  },
  {
   "cell_type": "code",
   "execution_count": 52,
   "metadata": {},
   "outputs": [],
   "source": [
    "# Write a function to load a csv file\n",
    "import csv\n",
    "def load_csv(filename):\n",
    "    with open(filename, 'r') as f:\n",
    "        reader = csv.reader(f)\n",
    "        data = list(reader)\n",
    "    return data\n",
    "\n",
    "def extract_tempo_years(data):\n",
    "    tempo = []\n",
    "    yrs = []\n",
    "    for i, row in enumerate(data[1:]):\n",
    "        yr = row[-1]\n",
    "        if yr != \"NA\":\n",
    "            tempo.append(float(row[2]))\n",
    "            yrs.append(float(row[3]))\n",
    "    return tempo, yrs\n",
    "\n",
    "def get_statistical_measures_h1(tempo, yrs):\n",
    "    mean_by_yr = []\n",
    "    std_by_yr = []\n",
    "    unique_yrs = np.sort(np.unique(yrs))\n",
    "    for yr in unique_yrs:\n",
    "        index = np.where(np.array(yrs) == yr)[0]\n",
    "        mean_by_yr.append(np.mean(np.array(tempo)[index]))\n",
    "        std_by_yr.append(np.std(np.array(tempo)[index]))\n",
    "    return mean_by_yr, std_by_yr, unique_yrs"
   ]
  },
  {
   "cell_type": "code",
   "execution_count": 53,
   "metadata": {},
   "outputs": [],
   "source": [
    "data = load_csv('df.csv')\n",
    "tmps, yrs = extract_tempo_years(data)\n",
    "mean_by_yr, std_by_yr, unique_yrs = get_statistical_measures_h1(tmps, yrs)"
   ]
  },
  {
   "cell_type": "code",
   "execution_count": null,
   "metadata": {},
   "outputs": [],
   "source": [
    "plt.figure(figsize = (13, 7))\n",
    "plt.errorbar(unique_yrs, mean_by_yr, std_by_yr, linestyle='None', marker='^')\n",
    "plt.title('Average and Stdev of BPM over the years')\n",
    "plt.xlabel('Years')\n",
    "plt.ylabel('BPM')"
   ]
  },
  {
   "cell_type": "code",
   "execution_count": 43,
   "metadata": {},
   "outputs": [
    {
     "data": {
      "text/plain": [
       "Text(0, 0.5, 'BPM')"
      ]
     },
     "execution_count": 43,
     "metadata": {},
     "output_type": "execute_result"
    },
    {
     "data": {
      "image/png": "[encoded data removed]",
      "text/plain": [
       "<Figure size 936x504 with 1 Axes>"
      ]
     },
     "metadata": {
      "needs_background": "light"
     },
     "output_type": "display_data"
    }
   ],
   "source": [
    "plt.figure(figsize = (13, 7))\n",
    "plt.errorbar(unique_yrs, mean_by_yr, std_by_yr, linestyle='None', marker='^')\n",
    "plt.title('Average and Stdev of BPM over the years')\n",
    "plt.xlabel('Years')\n",
    "plt.ylabel('BPM')"
   ]
  },
  {
   "cell_type": "markdown",
   "metadata": {},
   "source": [
    "### Linear regression on mean values"
   ]
  },
  {
   "cell_type": "code",
   "execution_count": 47,
   "metadata": {},
   "outputs": [],
   "source": [
    "from sklearn.linear_model import LinearRegression"
   ]
  },
  {
   "cell_type": "code",
   "execution_count": 48,
   "metadata": {},
   "outputs": [
    {
     "data": {
      "text/plain": [
       "LinearRegression()"
      ]
     },
     "execution_count": 48,
     "metadata": {},
     "output_type": "execute_result"
    }
   ],
   "source": [
    "x = unique_yrs.reshape((-1, 1))\n",
    "y = mean_by_yr\n",
    "model = LinearRegression()\n",
    "model.fit(x, y)"
   ]
  },
  {
   "cell_type": "code",
   "execution_count": 50,
   "metadata": {},
   "outputs": [
    {
     "name": "stdout",
     "output_type": "stream",
     "text": [
      "coefficient of determination: 0.26729213728342804, slope: [-0.63013681]\n"
     ]
    }
   ],
   "source": [
    "r_sq = model.score(x, y)\n",
    "slope = model.coef_\n",
    "print(f\"coefficient of determination: {r_sq}, slope: {slope}\")"
   ]
  },
  {
   "cell_type": "code",
   "execution_count": 64,
   "metadata": {},
   "outputs": [
    {
     "data": {
      "text/plain": [
       "Text(0.5, 0, 'Years')"
      ]
     },
     "execution_count": 64,
     "metadata": {},
     "output_type": "execute_result"
    },
    {
     "data": {
      "image/png": "[encoded data removed]",
      "text/plain": [
       "<Figure size 936x504 with 1 Axes>"
      ]
     },
     "metadata": {
      "needs_background": "light"
     },
     "output_type": "display_data"
    }
   ],
   "source": [
    "y_pred = model.predict(x)\n",
    "\n",
    "plt.figure(figsize = (13, 7))\n",
    "plt.errorbar(unique_yrs, mean_by_yr, std_by_yr, linestyle='None', marker='^')\n",
    "plt.plot(x, y_pred, color=\"red\", linewidth=3)\n",
    "plt.title('Linear regression of BPM over the years')\n",
    "# plt.title('Mean and Stdev of BPM over the years')\n",
    "plt.ylabel('BPM')\n",
    "plt.xlabel('Years')\n",
    "# plt.savefig('images/mean_stdev_BPM.png')"
   ]
  },
  {
   "cell_type": "code",
   "execution_count": null,
   "metadata": {},
   "outputs": [],
   "source": []
  }
 ],
 "metadata": {
  "kernelspec": {
   "display_name": "Python 3.6.5 64-bit ('3.6.5')",
   "language": "python",
   "name": "python3"
  },
  "language_info": {
   "codemirror_mode": {
    "name": "ipython",
    "version": 3
   },
   "file_extension": ".py",
   "mimetype": "text/x-python",
   "name": "python",
   "nbconvert_exporter": "python",
   "pygments_lexer": "ipython3",
   "version": "3.6.5"
  },
  "orig_nbformat": 4,
  "vscode": {
   "interpreter": {
    "hash": "607131a3d2a3dc43a1f8bac75288c1a017c2109cf12abfcb8b89d72723bd5f65"
   }
  }
 },
 "nbformat": 4,
 "nbformat_minor": 2
}
